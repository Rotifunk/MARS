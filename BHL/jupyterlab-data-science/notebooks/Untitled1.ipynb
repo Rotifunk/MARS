{
 "cells": [
  {
   "cell_type": "code",
   "execution_count": 2,
   "id": "56160345-74dc-40c9-a7be-6505f9100181",
   "metadata": {},
   "outputs": [
    {
     "name": "stdout",
     "output_type": "stream",
     "text": [
      "변환 완료! 파일 저장 위치: output.wav\n"
     ]
    }
   ],
   "source": [
    "import requests\n",
    "\n",
    "# 현재 경로는 /home/jovyan/work 입니다\n",
    "m4a_file_path = '01020550151_20241119202200.m4a'  # 상대 경로 사용 가능\n",
    "output_path = 'output.wav'  # 상대 경로 사용 가능\n",
    "\n",
    "url = 'http://converter:5000/convert'  # docker-compose 네트워크에서 서비스 이름으로 접근 가능\n",
    "\n",
    "# 나머지 코드는 동일\n",
    "with open(m4a_file_path, 'rb') as f:\n",
    "    files = {'file': f}\n",
    "    response = requests.post(url, files=files)\n",
    "\n",
    "if response.status_code == 200:\n",
    "    with open(output_path, 'wb') as f:\n",
    "        f.write(response.content)\n",
    "    print('변환 완료! 파일 저장 위치:', output_path)\n",
    "else:\n",
    "    print('변환 실패, 응답 코드:', response.status_code)\n",
    "    print('응답 내용:', response.text)"
   ]
  },
  {
   "cell_type": "code",
   "execution_count": null,
   "id": "cefa735a-8d86-4f6e-b8d5-036653ce7873",
   "metadata": {},
   "outputs": [],
   "source": []
  },
  {
   "cell_type": "code",
   "execution_count": null,
   "id": "86a9bd15-d261-450a-98f8-15af11f077f8",
   "metadata": {},
   "outputs": [],
   "source": []
  },
  {
   "cell_type": "code",
   "execution_count": null,
   "id": "8c8286af-f734-4730-be7a-bc51497ee0b6",
   "metadata": {},
   "outputs": [],
   "source": []
  },
  {
   "cell_type": "code",
   "execution_count": null,
   "id": "a379e2c5-315e-4f16-ab56-5f46c3209cae",
   "metadata": {},
   "outputs": [],
   "source": []
  },
  {
   "cell_type": "code",
   "execution_count": null,
   "id": "6ce85128-f1da-4fc0-91b9-8003294d3510",
   "metadata": {},
   "outputs": [],
   "source": []
  }
 ],
 "metadata": {
  "kernelspec": {
   "display_name": "Python 3 (ipykernel)",
   "language": "python",
   "name": "python3"
  },
  "language_info": {
   "codemirror_mode": {
    "name": "ipython",
    "version": 3
   },
   "file_extension": ".py",
   "mimetype": "text/x-python",
   "name": "python",
   "nbconvert_exporter": "python",
   "pygments_lexer": "ipython3",
   "version": "3.11.6"
  }
 },
 "nbformat": 4,
 "nbformat_minor": 5
}
